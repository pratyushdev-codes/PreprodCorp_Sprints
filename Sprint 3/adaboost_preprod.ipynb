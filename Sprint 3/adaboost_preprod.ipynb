{
  "cells": [
    {
      "cell_type": "code",
      "execution_count": 1,
      "metadata": {
        "id": "c002Up_5fZbu"
      },
      "outputs": [
        {
          "name": "stderr",
          "output_type": "stream",
          "text": [
            "Matplotlib is building the font cache; this may take a moment.\n"
          ]
        }
      ],
      "source": [
        "\n",
        "import pandas as pd\n",
        "import matplotlib.pyplot as plt\n",
        "import numpy as np"
      ]
    },
    {
      "cell_type": "code",
      "execution_count": 2,
      "metadata": {
        "colab": {
          "base_uri": "https://localhost:8080/",
          "height": 226
        },
        "id": "MqAf2KSlfZbv",
        "outputId": "1945706b-a430-4b91-e17f-21eb268bae2c"
      },
      "outputs": [
        {
          "data": {
            "text/html": [
              "<div>\n",
              "<style scoped>\n",
              "    .dataframe tbody tr th:only-of-type {\n",
              "        vertical-align: middle;\n",
              "    }\n",
              "\n",
              "    .dataframe tbody tr th {\n",
              "        vertical-align: top;\n",
              "    }\n",
              "\n",
              "    .dataframe thead th {\n",
              "        text-align: right;\n",
              "    }\n",
              "</style>\n",
              "<table border=\"1\" class=\"dataframe\">\n",
              "  <thead>\n",
              "    <tr style=\"text-align: right;\">\n",
              "      <th></th>\n",
              "      <th>Customer_id</th>\n",
              "      <th>Brand_name</th>\n",
              "      <th>Screen_size</th>\n",
              "      <th>Battery_capacity</th>\n",
              "      <th>Ram_size</th>\n",
              "      <th>Storage_capacity</th>\n",
              "      <th>Purchase_date</th>\n",
              "      <th>Price</th>\n",
              "      <th>Payment_type</th>\n",
              "      <th>Units_sold</th>\n",
              "    </tr>\n",
              "  </thead>\n",
              "  <tbody>\n",
              "    <tr>\n",
              "      <th>0</th>\n",
              "      <td>4382JV</td>\n",
              "      <td>Apple</td>\n",
              "      <td>7.5</td>\n",
              "      <td>11250</td>\n",
              "      <td>12</td>\n",
              "      <td>512</td>\n",
              "      <td>2023/09/23</td>\n",
              "      <td>791</td>\n",
              "      <td>paypal</td>\n",
              "      <td>3532</td>\n",
              "    </tr>\n",
              "    <tr>\n",
              "      <th>1</th>\n",
              "      <td>tCTYRh</td>\n",
              "      <td>Xiaomi</td>\n",
              "      <td>7.7</td>\n",
              "      <td>11550</td>\n",
              "      <td>12</td>\n",
              "      <td>512</td>\n",
              "      <td>2023/06/13</td>\n",
              "      <td>792</td>\n",
              "      <td>credit card</td>\n",
              "      <td>3400</td>\n",
              "    </tr>\n",
              "    <tr>\n",
              "      <th>2</th>\n",
              "      <td>Mx77Cv</td>\n",
              "      <td>Xiaomi</td>\n",
              "      <td>6.0</td>\n",
              "      <td>9000</td>\n",
              "      <td>9</td>\n",
              "      <td>32</td>\n",
              "      <td>2024/04/25</td>\n",
              "      <td>66</td>\n",
              "      <td>cash</td>\n",
              "      <td>1638</td>\n",
              "    </tr>\n",
              "    <tr>\n",
              "      <th>3</th>\n",
              "      <td>2J38jY</td>\n",
              "      <td>Samsung</td>\n",
              "      <td>5.5</td>\n",
              "      <td>8250</td>\n",
              "      <td>9</td>\n",
              "      <td>250</td>\n",
              "      <td>2023/03/08</td>\n",
              "      <td>392</td>\n",
              "      <td>paypal</td>\n",
              "      <td>1176</td>\n",
              "    </tr>\n",
              "    <tr>\n",
              "      <th>4</th>\n",
              "      <td>r2Hh39</td>\n",
              "      <td>Oppo</td>\n",
              "      <td>4.9</td>\n",
              "      <td>7350</td>\n",
              "      <td>8</td>\n",
              "      <td>64</td>\n",
              "      <td>2023/03/31</td>\n",
              "      <td>111</td>\n",
              "      <td>credit card</td>\n",
              "      <td>2802</td>\n",
              "    </tr>\n",
              "  </tbody>\n",
              "</table>\n",
              "</div>"
            ],
            "text/plain": [
              "  Customer_id Brand_name  Screen_size  Battery_capacity  Ram_size  \\\n",
              "0      4382JV      Apple          7.5             11250        12   \n",
              "1      tCTYRh     Xiaomi          7.7             11550        12   \n",
              "2      Mx77Cv     Xiaomi          6.0              9000         9   \n",
              "3      2J38jY    Samsung          5.5              8250         9   \n",
              "4      r2Hh39       Oppo          4.9              7350         8   \n",
              "\n",
              "   Storage_capacity Purchase_date  Price Payment_type  Units_sold  \n",
              "0               512    2023/09/23    791       paypal        3532  \n",
              "1               512    2023/06/13    792  credit card        3400  \n",
              "2                32    2024/04/25     66         cash        1638  \n",
              "3               250    2023/03/08    392       paypal        1176  \n",
              "4                64    2023/03/31    111  credit card        2802  "
            ]
          },
          "execution_count": 2,
          "metadata": {},
          "output_type": "execute_result"
        }
      ],
      "source": [
        "df = pd.read_csv(\"preprod_dataset.csv\")\n",
        "df.head()"
      ]
    },
    {
      "cell_type": "code",
      "execution_count": 4,
      "metadata": {
        "colab": {
          "base_uri": "https://localhost:8080/",
          "height": 398
        },
        "id": "AqovhaG8fZbv",
        "outputId": "b516ffbe-43be-414b-b63b-3b3d89696165"
      },
      "outputs": [
        {
          "data": {
            "text/plain": [
              "Customer_id          object\n",
              "Brand_name           object\n",
              "Screen_size         float64\n",
              "Battery_capacity      int64\n",
              "Ram_size              int64\n",
              "Storage_capacity      int64\n",
              "Purchase_date        object\n",
              "Price                 int64\n",
              "Payment_type         object\n",
              "Units_sold            int64\n",
              "dtype: object"
            ]
          },
          "execution_count": 4,
          "metadata": {},
          "output_type": "execute_result"
        }
      ],
      "source": [
        "df.dtypes"
      ]
    },
    {
      "cell_type": "code",
      "execution_count": 5,
      "metadata": {
        "colab": {
          "base_uri": "https://localhost:8080/",
          "height": 398
        },
        "id": "-Ut8z95FfZbv",
        "outputId": "6486a15f-0a1e-4c88-e1ef-c656fb20daf1"
      },
      "outputs": [
        {
          "data": {
            "text/plain": [
              "Customer_id         0\n",
              "Brand_name          0\n",
              "Screen_size         0\n",
              "Battery_capacity    0\n",
              "Ram_size            0\n",
              "Storage_capacity    0\n",
              "Purchase_date       0\n",
              "Price               0\n",
              "Payment_type        0\n",
              "Units_sold          0\n",
              "dtype: int64"
            ]
          },
          "execution_count": 5,
          "metadata": {},
          "output_type": "execute_result"
        }
      ],
      "source": [
        "#  Has no missing values.\n",
        "df.isnull().sum()"
      ]
    },
    {
      "cell_type": "code",
      "execution_count": 6,
      "metadata": {
        "colab": {
          "base_uri": "https://localhost:8080/"
        },
        "id": "UgQrEIj0fZbv",
        "outputId": "9644ae22-62d7-40ab-acf9-abe80d2d9aa4"
      },
      "outputs": [
        {
          "data": {
            "text/plain": [
              "445"
            ]
          },
          "execution_count": 6,
          "metadata": {},
          "output_type": "execute_result"
        }
      ],
      "source": [
        "df[\"Purchase_date\"].nunique()"
      ]
    },
    {
      "cell_type": "code",
      "execution_count": 7,
      "metadata": {
        "colab": {
          "base_uri": "https://localhost:8080/",
          "height": 398
        },
        "id": "kYCk-LhpfZbv",
        "outputId": "fd0eb5b0-70cf-4433-bcc0-0219b22f6667"
      },
      "outputs": [
        {
          "data": {
            "text/plain": [
              "Customer_id                 object\n",
              "Brand_name                  object\n",
              "Screen_size                float64\n",
              "Battery_capacity             int64\n",
              "Ram_size                     int64\n",
              "Storage_capacity             int64\n",
              "Purchase_date       datetime64[ns]\n",
              "Price                        int64\n",
              "Payment_type                object\n",
              "Units_sold                   int64\n",
              "dtype: object"
            ]
          },
          "execution_count": 7,
          "metadata": {},
          "output_type": "execute_result"
        }
      ],
      "source": [
        "df[\"Purchase_date\"]=pd.to_datetime(df[\"Purchase_date\"])\n",
        "df.dtypes"
      ]
    },
    {
      "cell_type": "code",
      "execution_count": 8,
      "metadata": {
        "colab": {
          "base_uri": "https://localhost:8080/",
          "height": 226
        },
        "id": "WFqJsBQEfZbv",
        "outputId": "2c2ceed3-22f6-4f46-8348-8ee39958e37f"
      },
      "outputs": [
        {
          "data": {
            "text/html": [
              "<div>\n",
              "<style scoped>\n",
              "    .dataframe tbody tr th:only-of-type {\n",
              "        vertical-align: middle;\n",
              "    }\n",
              "\n",
              "    .dataframe tbody tr th {\n",
              "        vertical-align: top;\n",
              "    }\n",
              "\n",
              "    .dataframe thead th {\n",
              "        text-align: right;\n",
              "    }\n",
              "</style>\n",
              "<table border=\"1\" class=\"dataframe\">\n",
              "  <thead>\n",
              "    <tr style=\"text-align: right;\">\n",
              "      <th></th>\n",
              "      <th>Customer_id</th>\n",
              "      <th>Brand_name</th>\n",
              "      <th>Screen_size</th>\n",
              "      <th>Battery_capacity</th>\n",
              "      <th>Ram_size</th>\n",
              "      <th>Storage_capacity</th>\n",
              "      <th>Price</th>\n",
              "      <th>Payment_type</th>\n",
              "      <th>Units_sold</th>\n",
              "      <th>Purchase_date_year</th>\n",
              "      <th>Purchase_date_month</th>\n",
              "      <th>Purchase_date_day</th>\n",
              "    </tr>\n",
              "  </thead>\n",
              "  <tbody>\n",
              "    <tr>\n",
              "      <th>0</th>\n",
              "      <td>4382JV</td>\n",
              "      <td>Apple</td>\n",
              "      <td>7.5</td>\n",
              "      <td>11250</td>\n",
              "      <td>12</td>\n",
              "      <td>512</td>\n",
              "      <td>791</td>\n",
              "      <td>paypal</td>\n",
              "      <td>3532</td>\n",
              "      <td>2023</td>\n",
              "      <td>9</td>\n",
              "      <td>23</td>\n",
              "    </tr>\n",
              "    <tr>\n",
              "      <th>1</th>\n",
              "      <td>tCTYRh</td>\n",
              "      <td>Xiaomi</td>\n",
              "      <td>7.7</td>\n",
              "      <td>11550</td>\n",
              "      <td>12</td>\n",
              "      <td>512</td>\n",
              "      <td>792</td>\n",
              "      <td>credit card</td>\n",
              "      <td>3400</td>\n",
              "      <td>2023</td>\n",
              "      <td>6</td>\n",
              "      <td>13</td>\n",
              "    </tr>\n",
              "    <tr>\n",
              "      <th>2</th>\n",
              "      <td>Mx77Cv</td>\n",
              "      <td>Xiaomi</td>\n",
              "      <td>6.0</td>\n",
              "      <td>9000</td>\n",
              "      <td>9</td>\n",
              "      <td>32</td>\n",
              "      <td>66</td>\n",
              "      <td>cash</td>\n",
              "      <td>1638</td>\n",
              "      <td>2024</td>\n",
              "      <td>4</td>\n",
              "      <td>25</td>\n",
              "    </tr>\n",
              "    <tr>\n",
              "      <th>3</th>\n",
              "      <td>2J38jY</td>\n",
              "      <td>Samsung</td>\n",
              "      <td>5.5</td>\n",
              "      <td>8250</td>\n",
              "      <td>9</td>\n",
              "      <td>250</td>\n",
              "      <td>392</td>\n",
              "      <td>paypal</td>\n",
              "      <td>1176</td>\n",
              "      <td>2023</td>\n",
              "      <td>3</td>\n",
              "      <td>8</td>\n",
              "    </tr>\n",
              "    <tr>\n",
              "      <th>4</th>\n",
              "      <td>r2Hh39</td>\n",
              "      <td>Oppo</td>\n",
              "      <td>4.9</td>\n",
              "      <td>7350</td>\n",
              "      <td>8</td>\n",
              "      <td>64</td>\n",
              "      <td>111</td>\n",
              "      <td>credit card</td>\n",
              "      <td>2802</td>\n",
              "      <td>2023</td>\n",
              "      <td>3</td>\n",
              "      <td>31</td>\n",
              "    </tr>\n",
              "  </tbody>\n",
              "</table>\n",
              "</div>"
            ],
            "text/plain": [
              "  Customer_id Brand_name  Screen_size  Battery_capacity  Ram_size  \\\n",
              "0      4382JV      Apple          7.5             11250        12   \n",
              "1      tCTYRh     Xiaomi          7.7             11550        12   \n",
              "2      Mx77Cv     Xiaomi          6.0              9000         9   \n",
              "3      2J38jY    Samsung          5.5              8250         9   \n",
              "4      r2Hh39       Oppo          4.9              7350         8   \n",
              "\n",
              "   Storage_capacity  Price Payment_type  Units_sold  Purchase_date_year  \\\n",
              "0               512    791       paypal        3532                2023   \n",
              "1               512    792  credit card        3400                2023   \n",
              "2                32     66         cash        1638                2024   \n",
              "3               250    392       paypal        1176                2023   \n",
              "4                64    111  credit card        2802                2023   \n",
              "\n",
              "   Purchase_date_month  Purchase_date_day  \n",
              "0                    9                 23  \n",
              "1                    6                 13  \n",
              "2                    4                 25  \n",
              "3                    3                  8  \n",
              "4                    3                 31  "
            ]
          },
          "execution_count": 8,
          "metadata": {},
          "output_type": "execute_result"
        }
      ],
      "source": [
        "df[\"Purchase_date_year\"]=df[\"Purchase_date\"].dt.year\n",
        "df[\"Purchase_date_month\"]=df[\"Purchase_date\"].dt.month\n",
        "df[\"Purchase_date_day\"]=df[\"Purchase_date\"].dt.day\n",
        "df.drop(\"Purchase_date\",axis=1,inplace=True)\n",
        "df.head()\n"
      ]
    },
    {
      "cell_type": "code",
      "execution_count": 9,
      "metadata": {
        "colab": {
          "base_uri": "https://localhost:8080/"
        },
        "id": "68AHEWu1fZbw",
        "outputId": "834a088b-9773-4c8a-d397-40d18c22b3c3"
      },
      "outputs": [
        {
          "data": {
            "text/plain": [
              "4"
            ]
          },
          "execution_count": 9,
          "metadata": {},
          "output_type": "execute_result"
        }
      ],
      "source": [
        "df[\"Payment_type\"].nunique()"
      ]
    },
    {
      "cell_type": "code",
      "execution_count": 10,
      "metadata": {
        "colab": {
          "base_uri": "https://localhost:8080/"
        },
        "id": "AU4ZbNR8fZbw",
        "outputId": "c819f19c-35f6-4ac3-d69f-8428da47dd89"
      },
      "outputs": [
        {
          "data": {
            "text/plain": [
              "1000"
            ]
          },
          "execution_count": 10,
          "metadata": {},
          "output_type": "execute_result"
        }
      ],
      "source": [
        "df[\"Customer_id\"].nunique()"
      ]
    },
    {
      "cell_type": "code",
      "execution_count": 11,
      "metadata": {
        "colab": {
          "base_uri": "https://localhost:8080/",
          "height": 226
        },
        "id": "FKpEvDTMfZbw",
        "outputId": "5f44cc10-b0ff-4cc8-c393-16a08c35f818"
      },
      "outputs": [
        {
          "data": {
            "text/html": [
              "<div>\n",
              "<style scoped>\n",
              "    .dataframe tbody tr th:only-of-type {\n",
              "        vertical-align: middle;\n",
              "    }\n",
              "\n",
              "    .dataframe tbody tr th {\n",
              "        vertical-align: top;\n",
              "    }\n",
              "\n",
              "    .dataframe thead th {\n",
              "        text-align: right;\n",
              "    }\n",
              "</style>\n",
              "<table border=\"1\" class=\"dataframe\">\n",
              "  <thead>\n",
              "    <tr style=\"text-align: right;\">\n",
              "      <th></th>\n",
              "      <th>Brand_name</th>\n",
              "      <th>Screen_size</th>\n",
              "      <th>Battery_capacity</th>\n",
              "      <th>Ram_size</th>\n",
              "      <th>Storage_capacity</th>\n",
              "      <th>Price</th>\n",
              "      <th>Payment_type</th>\n",
              "      <th>Units_sold</th>\n",
              "      <th>Purchase_date_year</th>\n",
              "      <th>Purchase_date_month</th>\n",
              "      <th>Purchase_date_day</th>\n",
              "    </tr>\n",
              "  </thead>\n",
              "  <tbody>\n",
              "    <tr>\n",
              "      <th>0</th>\n",
              "      <td>Apple</td>\n",
              "      <td>7.5</td>\n",
              "      <td>11250</td>\n",
              "      <td>12</td>\n",
              "      <td>512</td>\n",
              "      <td>791</td>\n",
              "      <td>paypal</td>\n",
              "      <td>3532</td>\n",
              "      <td>2023</td>\n",
              "      <td>9</td>\n",
              "      <td>23</td>\n",
              "    </tr>\n",
              "    <tr>\n",
              "      <th>1</th>\n",
              "      <td>Xiaomi</td>\n",
              "      <td>7.7</td>\n",
              "      <td>11550</td>\n",
              "      <td>12</td>\n",
              "      <td>512</td>\n",
              "      <td>792</td>\n",
              "      <td>credit card</td>\n",
              "      <td>3400</td>\n",
              "      <td>2023</td>\n",
              "      <td>6</td>\n",
              "      <td>13</td>\n",
              "    </tr>\n",
              "    <tr>\n",
              "      <th>2</th>\n",
              "      <td>Xiaomi</td>\n",
              "      <td>6.0</td>\n",
              "      <td>9000</td>\n",
              "      <td>9</td>\n",
              "      <td>32</td>\n",
              "      <td>66</td>\n",
              "      <td>cash</td>\n",
              "      <td>1638</td>\n",
              "      <td>2024</td>\n",
              "      <td>4</td>\n",
              "      <td>25</td>\n",
              "    </tr>\n",
              "    <tr>\n",
              "      <th>3</th>\n",
              "      <td>Samsung</td>\n",
              "      <td>5.5</td>\n",
              "      <td>8250</td>\n",
              "      <td>9</td>\n",
              "      <td>250</td>\n",
              "      <td>392</td>\n",
              "      <td>paypal</td>\n",
              "      <td>1176</td>\n",
              "      <td>2023</td>\n",
              "      <td>3</td>\n",
              "      <td>8</td>\n",
              "    </tr>\n",
              "    <tr>\n",
              "      <th>4</th>\n",
              "      <td>Oppo</td>\n",
              "      <td>4.9</td>\n",
              "      <td>7350</td>\n",
              "      <td>8</td>\n",
              "      <td>64</td>\n",
              "      <td>111</td>\n",
              "      <td>credit card</td>\n",
              "      <td>2802</td>\n",
              "      <td>2023</td>\n",
              "      <td>3</td>\n",
              "      <td>31</td>\n",
              "    </tr>\n",
              "  </tbody>\n",
              "</table>\n",
              "</div>"
            ],
            "text/plain": [
              "  Brand_name  Screen_size  Battery_capacity  Ram_size  Storage_capacity  \\\n",
              "0      Apple          7.5             11250        12               512   \n",
              "1     Xiaomi          7.7             11550        12               512   \n",
              "2     Xiaomi          6.0              9000         9                32   \n",
              "3    Samsung          5.5              8250         9               250   \n",
              "4       Oppo          4.9              7350         8                64   \n",
              "\n",
              "   Price Payment_type  Units_sold  Purchase_date_year  Purchase_date_month  \\\n",
              "0    791       paypal        3532                2023                    9   \n",
              "1    792  credit card        3400                2023                    6   \n",
              "2     66         cash        1638                2024                    4   \n",
              "3    392       paypal        1176                2023                    3   \n",
              "4    111  credit card        2802                2023                    3   \n",
              "\n",
              "   Purchase_date_day  \n",
              "0                 23  \n",
              "1                 13  \n",
              "2                 25  \n",
              "3                  8  \n",
              "4                 31  "
            ]
          },
          "execution_count": 11,
          "metadata": {},
          "output_type": "execute_result"
        }
      ],
      "source": [
        "# Let us begin with dropping customer_id\n",
        "df.drop(\"Customer_id\", axis=1, inplace=True)\n",
        "df.head()"
      ]
    },
    {
      "cell_type": "code",
      "execution_count": 12,
      "metadata": {
        "colab": {
          "base_uri": "https://localhost:8080/",
          "height": 226
        },
        "id": "04_AaUL5fZbw",
        "outputId": "8d0c9111-26a9-4e83-efdc-89ecfca9b123"
      },
      "outputs": [
        {
          "data": {
            "text/html": [
              "<div>\n",
              "<style scoped>\n",
              "    .dataframe tbody tr th:only-of-type {\n",
              "        vertical-align: middle;\n",
              "    }\n",
              "\n",
              "    .dataframe tbody tr th {\n",
              "        vertical-align: top;\n",
              "    }\n",
              "\n",
              "    .dataframe thead th {\n",
              "        text-align: right;\n",
              "    }\n",
              "</style>\n",
              "<table border=\"1\" class=\"dataframe\">\n",
              "  <thead>\n",
              "    <tr style=\"text-align: right;\">\n",
              "      <th></th>\n",
              "      <th>Screen_size</th>\n",
              "      <th>Battery_capacity</th>\n",
              "      <th>Ram_size</th>\n",
              "      <th>Storage_capacity</th>\n",
              "      <th>Price</th>\n",
              "      <th>Payment_type</th>\n",
              "      <th>Units_sold</th>\n",
              "      <th>Purchase_date_year</th>\n",
              "      <th>Purchase_date_month</th>\n",
              "      <th>Purchase_date_day</th>\n",
              "    </tr>\n",
              "  </thead>\n",
              "  <tbody>\n",
              "    <tr>\n",
              "      <th>0</th>\n",
              "      <td>7.5</td>\n",
              "      <td>11250</td>\n",
              "      <td>12</td>\n",
              "      <td>512</td>\n",
              "      <td>791</td>\n",
              "      <td>paypal</td>\n",
              "      <td>3532</td>\n",
              "      <td>2023</td>\n",
              "      <td>9</td>\n",
              "      <td>23</td>\n",
              "    </tr>\n",
              "    <tr>\n",
              "      <th>1</th>\n",
              "      <td>7.7</td>\n",
              "      <td>11550</td>\n",
              "      <td>12</td>\n",
              "      <td>512</td>\n",
              "      <td>792</td>\n",
              "      <td>credit card</td>\n",
              "      <td>3400</td>\n",
              "      <td>2023</td>\n",
              "      <td>6</td>\n",
              "      <td>13</td>\n",
              "    </tr>\n",
              "    <tr>\n",
              "      <th>2</th>\n",
              "      <td>6.0</td>\n",
              "      <td>9000</td>\n",
              "      <td>9</td>\n",
              "      <td>32</td>\n",
              "      <td>66</td>\n",
              "      <td>cash</td>\n",
              "      <td>1638</td>\n",
              "      <td>2024</td>\n",
              "      <td>4</td>\n",
              "      <td>25</td>\n",
              "    </tr>\n",
              "    <tr>\n",
              "      <th>3</th>\n",
              "      <td>5.5</td>\n",
              "      <td>8250</td>\n",
              "      <td>9</td>\n",
              "      <td>250</td>\n",
              "      <td>392</td>\n",
              "      <td>paypal</td>\n",
              "      <td>1176</td>\n",
              "      <td>2023</td>\n",
              "      <td>3</td>\n",
              "      <td>8</td>\n",
              "    </tr>\n",
              "    <tr>\n",
              "      <th>4</th>\n",
              "      <td>4.9</td>\n",
              "      <td>7350</td>\n",
              "      <td>8</td>\n",
              "      <td>64</td>\n",
              "      <td>111</td>\n",
              "      <td>credit card</td>\n",
              "      <td>2802</td>\n",
              "      <td>2023</td>\n",
              "      <td>3</td>\n",
              "      <td>31</td>\n",
              "    </tr>\n",
              "  </tbody>\n",
              "</table>\n",
              "</div>"
            ],
            "text/plain": [
              "   Screen_size  Battery_capacity  Ram_size  Storage_capacity  Price  \\\n",
              "0          7.5             11250        12               512    791   \n",
              "1          7.7             11550        12               512    792   \n",
              "2          6.0              9000         9                32     66   \n",
              "3          5.5              8250         9               250    392   \n",
              "4          4.9              7350         8                64    111   \n",
              "\n",
              "  Payment_type  Units_sold  Purchase_date_year  Purchase_date_month  \\\n",
              "0       paypal        3532                2023                    9   \n",
              "1  credit card        3400                2023                    6   \n",
              "2         cash        1638                2024                    4   \n",
              "3       paypal        1176                2023                    3   \n",
              "4  credit card        2802                2023                    3   \n",
              "\n",
              "   Purchase_date_day  \n",
              "0                 23  \n",
              "1                 13  \n",
              "2                 25  \n",
              "3                  8  \n",
              "4                 31  "
            ]
          },
          "execution_count": 12,
          "metadata": {},
          "output_type": "execute_result"
        }
      ],
      "source": [
        "# We will keep Brand_name as target varaible.\n",
        "\n",
        "X=df.drop(\"Brand_name\" , axis=1)\n",
        "X.head()"
      ]
    },
    {
      "cell_type": "code",
      "execution_count": 13,
      "metadata": {
        "colab": {
          "base_uri": "https://localhost:8080/",
          "height": 398
        },
        "id": "UNHmKUCDfZbw",
        "outputId": "89fc5ed4-2480-43da-e117-9c09008bb93c"
      },
      "outputs": [
        {
          "data": {
            "text/plain": [
              "Screen_size            float64\n",
              "Battery_capacity         int64\n",
              "Ram_size                 int64\n",
              "Storage_capacity         int64\n",
              "Price                    int64\n",
              "Payment_type            object\n",
              "Units_sold               int64\n",
              "Purchase_date_year       int32\n",
              "Purchase_date_month      int32\n",
              "Purchase_date_day        int32\n",
              "dtype: object"
            ]
          },
          "execution_count": 13,
          "metadata": {},
          "output_type": "execute_result"
        }
      ],
      "source": [
        "X.dtypes"
      ]
    },
    {
      "cell_type": "code",
      "execution_count": 14,
      "metadata": {
        "colab": {
          "base_uri": "https://localhost:8080/",
          "height": 244
        },
        "id": "ViJlxLiPfZbw",
        "outputId": "cafe6adf-4c50-4f2d-ad00-4ef2a82e4695"
      },
      "outputs": [
        {
          "data": {
            "text/html": [
              "<div>\n",
              "<style scoped>\n",
              "    .dataframe tbody tr th:only-of-type {\n",
              "        vertical-align: middle;\n",
              "    }\n",
              "\n",
              "    .dataframe tbody tr th {\n",
              "        vertical-align: top;\n",
              "    }\n",
              "\n",
              "    .dataframe thead th {\n",
              "        text-align: right;\n",
              "    }\n",
              "</style>\n",
              "<table border=\"1\" class=\"dataframe\">\n",
              "  <thead>\n",
              "    <tr style=\"text-align: right;\">\n",
              "      <th></th>\n",
              "      <th>Screen_size</th>\n",
              "      <th>Battery_capacity</th>\n",
              "      <th>Ram_size</th>\n",
              "      <th>Storage_capacity</th>\n",
              "      <th>Price</th>\n",
              "      <th>Units_sold</th>\n",
              "      <th>Purchase_date_year</th>\n",
              "      <th>Purchase_date_month</th>\n",
              "      <th>Purchase_date_day</th>\n",
              "      <th>Payment_type_cash</th>\n",
              "      <th>Payment_type_credit card</th>\n",
              "      <th>Payment_type_debit card</th>\n",
              "      <th>Payment_type_paypal</th>\n",
              "    </tr>\n",
              "  </thead>\n",
              "  <tbody>\n",
              "    <tr>\n",
              "      <th>0</th>\n",
              "      <td>7.5</td>\n",
              "      <td>11250</td>\n",
              "      <td>12</td>\n",
              "      <td>512</td>\n",
              "      <td>791</td>\n",
              "      <td>3532</td>\n",
              "      <td>2023</td>\n",
              "      <td>9</td>\n",
              "      <td>23</td>\n",
              "      <td>0.0</td>\n",
              "      <td>0.0</td>\n",
              "      <td>0.0</td>\n",
              "      <td>1.0</td>\n",
              "    </tr>\n",
              "    <tr>\n",
              "      <th>1</th>\n",
              "      <td>7.7</td>\n",
              "      <td>11550</td>\n",
              "      <td>12</td>\n",
              "      <td>512</td>\n",
              "      <td>792</td>\n",
              "      <td>3400</td>\n",
              "      <td>2023</td>\n",
              "      <td>6</td>\n",
              "      <td>13</td>\n",
              "      <td>0.0</td>\n",
              "      <td>1.0</td>\n",
              "      <td>0.0</td>\n",
              "      <td>0.0</td>\n",
              "    </tr>\n",
              "    <tr>\n",
              "      <th>2</th>\n",
              "      <td>6.0</td>\n",
              "      <td>9000</td>\n",
              "      <td>9</td>\n",
              "      <td>32</td>\n",
              "      <td>66</td>\n",
              "      <td>1638</td>\n",
              "      <td>2024</td>\n",
              "      <td>4</td>\n",
              "      <td>25</td>\n",
              "      <td>1.0</td>\n",
              "      <td>0.0</td>\n",
              "      <td>0.0</td>\n",
              "      <td>0.0</td>\n",
              "    </tr>\n",
              "    <tr>\n",
              "      <th>3</th>\n",
              "      <td>5.5</td>\n",
              "      <td>8250</td>\n",
              "      <td>9</td>\n",
              "      <td>250</td>\n",
              "      <td>392</td>\n",
              "      <td>1176</td>\n",
              "      <td>2023</td>\n",
              "      <td>3</td>\n",
              "      <td>8</td>\n",
              "      <td>0.0</td>\n",
              "      <td>0.0</td>\n",
              "      <td>0.0</td>\n",
              "      <td>1.0</td>\n",
              "    </tr>\n",
              "    <tr>\n",
              "      <th>4</th>\n",
              "      <td>4.9</td>\n",
              "      <td>7350</td>\n",
              "      <td>8</td>\n",
              "      <td>64</td>\n",
              "      <td>111</td>\n",
              "      <td>2802</td>\n",
              "      <td>2023</td>\n",
              "      <td>3</td>\n",
              "      <td>31</td>\n",
              "      <td>0.0</td>\n",
              "      <td>1.0</td>\n",
              "      <td>0.0</td>\n",
              "      <td>0.0</td>\n",
              "    </tr>\n",
              "  </tbody>\n",
              "</table>\n",
              "</div>"
            ],
            "text/plain": [
              "   Screen_size  Battery_capacity  Ram_size  Storage_capacity  Price  \\\n",
              "0          7.5             11250        12               512    791   \n",
              "1          7.7             11550        12               512    792   \n",
              "2          6.0              9000         9                32     66   \n",
              "3          5.5              8250         9               250    392   \n",
              "4          4.9              7350         8                64    111   \n",
              "\n",
              "   Units_sold  Purchase_date_year  Purchase_date_month  Purchase_date_day  \\\n",
              "0        3532                2023                    9                 23   \n",
              "1        3400                2023                    6                 13   \n",
              "2        1638                2024                    4                 25   \n",
              "3        1176                2023                    3                  8   \n",
              "4        2802                2023                    3                 31   \n",
              "\n",
              "   Payment_type_cash  Payment_type_credit card  Payment_type_debit card  \\\n",
              "0                0.0                       0.0                      0.0   \n",
              "1                0.0                       1.0                      0.0   \n",
              "2                1.0                       0.0                      0.0   \n",
              "3                0.0                       0.0                      0.0   \n",
              "4                0.0                       1.0                      0.0   \n",
              "\n",
              "   Payment_type_paypal  \n",
              "0                  1.0  \n",
              "1                  0.0  \n",
              "2                  0.0  \n",
              "3                  1.0  \n",
              "4                  0.0  "
            ]
          },
          "execution_count": 14,
          "metadata": {},
          "output_type": "execute_result"
        }
      ],
      "source": [
        "from sklearn.preprocessing import OneHotEncoder\n",
        "categorical_columns = X.select_dtypes(include=['object']).columns.tolist()\n",
        "\n",
        "#Initialize OneHotEncoder\n",
        "encoder = OneHotEncoder(sparse_output=False)\n",
        "\n",
        "# Apply one-hot encoding to the categorical columns\n",
        "one_hot_encoded = encoder.fit_transform(df[categorical_columns])\n",
        "\n",
        "\n",
        "#Create a DataFrame with the one-hot encoded columns\n",
        "#We use get_feature_names_out() to get the column names for the encoded data\n",
        "one_hot_df = pd.DataFrame(one_hot_encoded, columns=encoder.get_feature_names_out(categorical_columns))\n",
        "\n",
        "# Concatenate the one-hot encoded dataframe with the original dataframe\n",
        "df_encoded = pd.concat([X, one_hot_df], axis=1)\n",
        "\n",
        "# Drop the original categorical columns\n",
        "X = df_encoded.drop(categorical_columns, axis=1)\n",
        "X.head()\n"
      ]
    },
    {
      "cell_type": "code",
      "execution_count": 15,
      "metadata": {
        "colab": {
          "base_uri": "https://localhost:8080/",
          "height": 492
        },
        "id": "D6lOmXRQfZbw",
        "outputId": "4554e888-f401-49eb-acf9-3f91c37ef8ca"
      },
      "outputs": [
        {
          "data": {
            "text/plain": [
              "Screen_size                 float64\n",
              "Battery_capacity              int64\n",
              "Ram_size                      int64\n",
              "Storage_capacity              int64\n",
              "Price                         int64\n",
              "Units_sold                    int64\n",
              "Purchase_date_year            int32\n",
              "Purchase_date_month           int32\n",
              "Purchase_date_day             int32\n",
              "Payment_type_cash           float64\n",
              "Payment_type_credit card    float64\n",
              "Payment_type_debit card     float64\n",
              "Payment_type_paypal         float64\n",
              "dtype: object"
            ]
          },
          "execution_count": 15,
          "metadata": {},
          "output_type": "execute_result"
        }
      ],
      "source": [
        "X.dtypes"
      ]
    },
    {
      "cell_type": "code",
      "execution_count": 16,
      "metadata": {
        "colab": {
          "base_uri": "https://localhost:8080/",
          "height": 241
        },
        "id": "5afp9SIUfZbw",
        "outputId": "136f4814-3d6f-497d-8dae-b9e1447252c5"
      },
      "outputs": [
        {
          "data": {
            "text/plain": [
              "0      Apple\n",
              "1     Xiaomi\n",
              "2     Xiaomi\n",
              "3    Samsung\n",
              "4       Oppo\n",
              "Name: Brand_name, dtype: object"
            ]
          },
          "execution_count": 16,
          "metadata": {},
          "output_type": "execute_result"
        }
      ],
      "source": [
        "y=df[\"Brand_name\"]\n",
        "y.head()"
      ]
    },
    {
      "cell_type": "code",
      "execution_count": 17,
      "metadata": {
        "id": "KD4vPXkpfZbw"
      },
      "outputs": [],
      "source": [
        "from sklearn.model_selection import train_test_split"
      ]
    },
    {
      "cell_type": "code",
      "execution_count": 18,
      "metadata": {
        "id": "KLh5YxxifZbw"
      },
      "outputs": [],
      "source": [
        "X_train,X_test,y_train,y_test=train_test_split(X,y,test_size=0.25, random_state=20)"
      ]
    },
    {
      "cell_type": "code",
      "execution_count": 19,
      "metadata": {
        "id": "6p1WXBulgLmd"
      },
      "outputs": [],
      "source": [
        "from sklearn.model_selection import train_test_split\n",
        "from sklearn.ensemble import AdaBoostClassifier"
      ]
    },
    {
      "cell_type": "code",
      "execution_count": 20,
      "metadata": {
        "colab": {
          "base_uri": "https://localhost:8080/",
          "height": 241
        },
        "id": "0D9Y_CGogvZD",
        "outputId": "4957ae29-ee8b-4c34-e808-ef96c515f1a5"
      },
      "outputs": [
        {
          "data": {
            "text/plain": [
              "0      Apple\n",
              "1     Xiaomi\n",
              "2     Xiaomi\n",
              "3    Samsung\n",
              "4       Oppo\n",
              "Name: Brand_name, dtype: object"
            ]
          },
          "execution_count": 20,
          "metadata": {},
          "output_type": "execute_result"
        }
      ],
      "source": [
        "y.head()"
      ]
    },
    {
      "cell_type": "code",
      "execution_count": 21,
      "metadata": {
        "id": "_OwGfsaTh0wk"
      },
      "outputs": [
        {
          "name": "stderr",
          "output_type": "stream",
          "text": [
            "/Library/Frameworks/Python.framework/Versions/3.12/lib/python3.12/site-packages/sklearn/ensemble/_weight_boosting.py:527: FutureWarning: The SAMME.R algorithm (the default) is deprecated and will be removed in 1.6. Use the SAMME algorithm to circumvent this warning.\n",
            "  warnings.warn(\n"
          ]
        }
      ],
      "source": [
        "# Creating AdaBoost classifier model\n",
        "adb = AdaBoostClassifier()\n",
        "adb_model = adb.fit(X_train, y_train)"
      ]
    },
    {
      "cell_type": "code",
      "execution_count": 23,
      "metadata": {
        "colab": {
          "background_save": true,
          "base_uri": "https://localhost:8080/"
        },
        "id": "aJbo750UjPxd",
        "outputId": "4e930b27-294a-45d2-f4f3-4c4aa1454fe7"
      },
      "outputs": [
        {
          "name": "stdout",
          "output_type": "stream",
          "text": [
            "The accuracy of the model on validation set is 0.172\n"
          ]
        }
      ],
      "source": [
        "# Evaluating the model on the validation set\n",
        "accuracy = adb_model.score(X_test, y_test)\n",
        "print(\"The accuracy of the model on validation set is\", accuracy)"
      ]
    }
  ],
  "metadata": {
    "colab": {
      "provenance": []
    },
    "kernelspec": {
      "display_name": "Python 3",
      "language": "python",
      "name": "python3"
    },
    "language_info": {
      "codemirror_mode": {
        "name": "ipython",
        "version": 3
      },
      "file_extension": ".py",
      "mimetype": "text/x-python",
      "name": "python",
      "nbconvert_exporter": "python",
      "pygments_lexer": "ipython3",
      "version": "3.12.6"
    }
  },
  "nbformat": 4,
  "nbformat_minor": 0
}
